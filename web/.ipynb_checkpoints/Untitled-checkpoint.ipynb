{
 "cells": [
  {
   "cell_type": "code",
   "execution_count": 1,
   "metadata": {},
   "outputs": [],
   "source": [
    "import pandas as pd\n",
    "from reference.models import Prediction_tool\n",
    "import os\n",
    "import django\n",
    "os.environ.setdefault('DJANGO_SETTINGS_MODULE', 'rest.settings')\n",
    "os.environ[\"DJANGO_ALLOW_ASYNC_UNSAFE\"] = \"true\"\n",
    "django.setup()"
   ]
  },
  {
   "cell_type": "code",
   "execution_count": 2,
   "metadata": {},
   "outputs": [],
   "source": [
    "table = pd.read_table(\"target_prediction_tools_links.txt\", encoding = \"ISO-8859-1\")\n",
    "table.fillna(0,inplace=True)\n",
    "#table"
   ]
  },
  {
   "cell_type": "code",
   "execution_count": 3,
   "metadata": {},
   "outputs": [
    {
     "name": "stdout",
     "output_type": "stream",
     "text": [
      "multiMiR\n",
      "BCmicrO\n",
      "CoMeTa\n",
      "Cupid\n",
      "DIANA-microT-CDS\n",
      "ElMMo3\n",
      "GenMir++\n",
      "MAMI\n",
      "MBStar\n",
      "MicroCosm\n",
      "miR2Disease\n",
      "MirAncesTar\n",
      "mirBase\n",
      "miRanda\n",
      "miRBridge\n",
      "miRcode\n",
      "mirCoX\n",
      "miRDsnp\n",
      "miRDB\n",
      "miRecords\n",
      "MirGate\n",
      "miRMap\n",
      "MirSNP\n",
      "MirTar\n",
      "miRTar2GO\n",
      "miRTarBase\n",
      "mirWalk3\n",
      "Mirza-G\n",
      "MultiMiTar\n",
      "PACCMIT\n",
      "PharmacoMir\n",
      "PITA\n",
      "PolymiRTS\n",
      "RNA22\n",
      "RPmirDP\n",
      "StarBase\n",
      "TargetRank\n",
      "TargetScan\n",
      "TargetSpy\n",
      "39\n"
     ]
    }
   ],
   "source": [
    "i = 0\n",
    "for index, row in table.iterrows():\n",
    "    try:\n",
    "        print(row[0])\n",
    "        pt = Prediction_tool\n",
    "        pt = pt(name = row[0], url = row[1], doi = row[2], pmid = row[3], reference = row[4])\n",
    "        pt.save()\n",
    "    except:\n",
    "        pass\n",
    "    else:\n",
    "        i+=1\n",
    "print(i)"
   ]
  },
  {
   "cell_type": "code",
   "execution_count": 4,
   "metadata": {},
   "outputs": [
    {
     "data": {
      "text/plain": [
       "Index(['TOOL', 'URL', 'DOI', 'PMID', 'REFERENCE (SHORT)'], dtype='object')"
      ]
     },
     "execution_count": 4,
     "metadata": {},
     "output_type": "execute_result"
    }
   ],
   "source": [
    "table.columns\n",
    "\n"
   ]
  },
  {
   "cell_type": "code",
   "execution_count": null,
   "metadata": {},
   "outputs": [],
   "source": []
  }
 ],
 "metadata": {
  "kernelspec": {
   "display_name": "Django Shell-Plus",
   "language": "python",
   "name": "django_extensions"
  },
  "language_info": {
   "codemirror_mode": {
    "name": "ipython",
    "version": 3
   },
   "file_extension": ".py",
   "mimetype": "text/x-python",
   "name": "python",
   "nbconvert_exporter": "python",
   "pygments_lexer": "ipython3",
   "version": "3.8.8"
  }
 },
 "nbformat": 4,
 "nbformat_minor": 4
}
